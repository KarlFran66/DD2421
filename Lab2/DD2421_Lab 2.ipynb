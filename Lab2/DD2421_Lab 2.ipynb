{
 "cells": [
  {
   "cell_type": "code",
   "execution_count": 1,
   "id": "2e145b66",
   "metadata": {},
   "outputs": [],
   "source": [
    "import numpy as np\n",
    "import random as rd\n",
    "import math as m\n",
    "from scipy.optimize import minimize\n",
    "import matplotlib.pyplot as plt"
   ]
  },
  {
   "cell_type": "code",
   "execution_count": 2,
   "id": "8f949cd9",
   "metadata": {},
   "outputs": [],
   "source": [
    "\"\"\"Generating Test Data\"\"\"\n",
    "classA = np.concatenate((np.random.randn(15, 2) * 0.3 + [2.0, 0.5], np.random.randn(15, 2) * 0.3 + [-2.0, 0.5]))\n",
    "classB = np.random.randn(30, 2) * 0.3 + [0.0, 0.5]\n",
    "\n",
    "inputs = np.concatenate((classA, classB))\n",
    "targets = np.concatenate((np.ones(classA.shape[0]), -np.ones(classB.shape[0])))\n",
    "\n",
    "N = inputs.shape[0]\n",
    "\n",
    "permute = list(range(N))\n",
    "rd.shuffle(permute)\n",
    "inputs = inputs[permute, :]\n",
    "targets = targets[permute]"
   ]
  },
  {
   "cell_type": "code",
   "execution_count": 3,
   "id": "6be73355",
   "metadata": {},
   "outputs": [
    {
     "ename": "ValueError",
     "evalue": "No solution!",
     "output_type": "error",
     "traceback": [
      "\u001b[1;31m---------------------------------------------------------------------------\u001b[0m",
      "\u001b[1;31mValueError\u001b[0m                                Traceback (most recent call last)",
      "\u001b[1;32mC:\\Users\\KARLZH~1\\AppData\\Local\\Temp/ipykernel_6928/2653600692.py\u001b[0m in \u001b[0;36m<module>\u001b[1;34m\u001b[0m\n\u001b[0;32m     36\u001b[0m \u001b[0mret\u001b[0m \u001b[1;33m=\u001b[0m \u001b[0mminimize\u001b[0m\u001b[1;33m(\u001b[0m\u001b[0mobjective\u001b[0m\u001b[1;33m,\u001b[0m \u001b[0mstart\u001b[0m\u001b[1;33m,\u001b[0m \u001b[0mbounds\u001b[0m\u001b[1;33m=\u001b[0m\u001b[0mB\u001b[0m\u001b[1;33m,\u001b[0m \u001b[0mconstraints\u001b[0m\u001b[1;33m=\u001b[0m\u001b[0mXC\u001b[0m\u001b[1;33m)\u001b[0m\u001b[1;33m\u001b[0m\u001b[1;33m\u001b[0m\u001b[0m\n\u001b[0;32m     37\u001b[0m \u001b[1;32mif\u001b[0m \u001b[1;33m(\u001b[0m\u001b[1;32mnot\u001b[0m \u001b[0mret\u001b[0m\u001b[1;33m[\u001b[0m\u001b[1;34m'success'\u001b[0m\u001b[1;33m]\u001b[0m\u001b[1;33m)\u001b[0m\u001b[1;33m:\u001b[0m\u001b[1;33m\u001b[0m\u001b[1;33m\u001b[0m\u001b[0m\n\u001b[1;32m---> 38\u001b[1;33m     \u001b[1;32mraise\u001b[0m \u001b[0mValueError\u001b[0m\u001b[1;33m(\u001b[0m\u001b[1;34m'No solution!'\u001b[0m\u001b[1;33m)\u001b[0m\u001b[1;33m\u001b[0m\u001b[1;33m\u001b[0m\u001b[0m\n\u001b[0m\u001b[0;32m     39\u001b[0m \u001b[0malpha\u001b[0m \u001b[1;33m=\u001b[0m \u001b[0mret\u001b[0m\u001b[1;33m[\u001b[0m\u001b[1;34m'x'\u001b[0m\u001b[1;33m]\u001b[0m\u001b[1;33m\u001b[0m\u001b[1;33m\u001b[0m\u001b[0m\n\u001b[0;32m     40\u001b[0m \u001b[1;33m\u001b[0m\u001b[0m\n",
      "\u001b[1;31mValueError\u001b[0m: No solution!"
     ]
    }
   ],
   "source": [
    "\"\"\"kernel functions\"\"\"\n",
    "def linearkernel(x, y):\n",
    "    return np.dot(x, y)\n",
    "\n",
    "def ploykernel(x, y):\n",
    "    p = 8\n",
    "    return (np.dot(x, y) + 1) ** p\n",
    "\n",
    "def RBFkernel(x, y):\n",
    "    sigma = 5\n",
    "    return m.exp(-(np.linalg.norm(x - y) ** 2) / (2 * (sigma ** 2)))\n",
    "\n",
    "kernel = linearkernel\n",
    "\n",
    "\"\"\"objective\"\"\"\n",
    "P = np.zeros((N, N))\n",
    "for i in range(N):\n",
    "    for j in range(N):\n",
    "        P[i][j] = targets[i] * targets[j] * kernel(inputs[i], inputs[j])\n",
    "\n",
    "def objective(alpha):\n",
    "    return 0.5 * np.dot(alpha, np.dot(P, alpha)) - np.sum(alpha)\n",
    "\n",
    "\"\"\"zerofun\"\"\"\n",
    "def zerofun(alpha):\n",
    "    return np.dot(alpha, targets)\n",
    "\n",
    "\"\"\"Call minimize\"\"\"\n",
    "start = np.zeros(N)\n",
    "\n",
    "C = 100000\n",
    "B = [(0, C) for b in range(N)]\n",
    "\n",
    "XC = {'type': 'eq', 'fun': zerofun}\n",
    "\n",
    "ret = minimize(objective, start, bounds=B, constraints=XC)\n",
    "if (not ret['success']):\n",
    "    raise ValueError('No solution!')\n",
    "alpha = ret['x']\n",
    "\n",
    "\"\"\"Extract the non-zero alpha values\"\"\"\n",
    "nonZeroData = []\n",
    "for i in range(N):\n",
    "    if alpha[i] > 10 ** (-5):\n",
    "        nonZeroData.append((alpha[i], inputs[i], targets[i]))\n",
    "        \n",
    "sv = []\n",
    "for i in range(N):\n",
    "    if (alpha[i] > 10 ** (-5)) & (alpha[i] < C):\n",
    "        sv.append((alpha[i], inputs[i], targets[i]))\n",
    "        \n",
    "\"\"\"Calculate the b value\"\"\"\n",
    "bvalue = 0\n",
    "for data in nonZeroData:\n",
    "    bvalue += data[0] * data[2] * kernel(sv[0][1], data[1])\n",
    "bvalue -= sv[0][2]\n",
    "\n",
    "\"\"\"indicator function\"\"\"\n",
    "def indicator(x, y):\n",
    "    ind = 0\n",
    "    for data in nonZeroData:\n",
    "        ind += data[0] * data[2] * kernel([x, y], data[1])\n",
    "    return ind - bvalue"
   ]
  },
  {
   "cell_type": "code",
   "execution_count": null,
   "id": "873f7239",
   "metadata": {},
   "outputs": [],
   "source": [
    "\"\"\"Plotting\"\"\"\n",
    "#plt.plot([p[0] for p in classA if abs(indicator(p[0], p[1]))>1+10e-5], [p[1] for p in classA if abs(indicator(p[0], p[1]))>1+10e-5], 'b.')\n",
    "#plt.plot([p[0] for p in classB if abs(indicator(p[0], p[1]))>1+10e-5], [p[1] for p in classB if abs(indicator(p[0], p[1]))>1+10e-5], 'r.')\n",
    "#plt.plot([p[0] for p in classA if 1-10e-5<=abs(indicator(p[0], p[1]))<=1+10e-5], [p[1] for p in classA if 1-10e-5<=abs(indicator(p[0], p[1]))<=1+10e-5], 'bx')\n",
    "#plt.plot([p[0] for p in classB if 1-10e-5<=abs(indicator(p[0], p[1]))<=1+10e-5], [p[1] for p in classB if 1-10e-5<=abs(indicator(p[0], p[1]))<=1+10e-5], 'rx')\n",
    "\n",
    "plt.plot([p[0] for p in classA], [p[1] for p in classA], 'b.')\n",
    "plt.plot([p[0] for p in classB], [p[1] for p in classB], 'r.')\n",
    "plt.plot([data[1][0] for data in sv], [data[1][1] for data in sv], 'yo')\n",
    "\n",
    "xgrid = np.linspace(-5, 5)\n",
    "ygrid = np.linspace(-4, 4)\n",
    "\n",
    "grid = np.array([[indicator(x, y) for x in xgrid] for y in ygrid])\n",
    "\n",
    "plt.contour(xgrid, ygrid, grid, (-1.0, 0.0, 1.0), colors = ('red', 'black', 'blue'), linewidths = (1, 3, 1))\n",
    "\n",
    "plt.axis('equal')\n",
    "plt.savefig('q4_2.jpg', dpi=800)\n",
    "plt.show()"
   ]
  }
 ],
 "metadata": {
  "kernelspec": {
   "display_name": "Python 3 (ipykernel)",
   "language": "python",
   "name": "python3"
  },
  "language_info": {
   "codemirror_mode": {
    "name": "ipython",
    "version": 3
   },
   "file_extension": ".py",
   "mimetype": "text/x-python",
   "name": "python",
   "nbconvert_exporter": "python",
   "pygments_lexer": "ipython3",
   "version": "3.8.5"
  }
 },
 "nbformat": 4,
 "nbformat_minor": 5
}
